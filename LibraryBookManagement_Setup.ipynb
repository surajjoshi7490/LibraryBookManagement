{
 "cells": [
  {
   "cell_type": "markdown",
   "id": "8c47048b",
   "metadata": {},
   "source": [
    "# 📚 Library Book Management System\n",
    "\n",
    "An ASP.NET Core MVC web application to manage library books with full CRUD functionality using Entity Framework Core and SQL Server (or SQLite)."
   ]
  },
  {
   "cell_type": "markdown",
   "id": "358e44e9",
   "metadata": {},
   "source": [
    "## 🚀 How to Run This Project Locally"
   ]
  },
  {
   "cell_type": "markdown",
   "id": "b5efd8c7",
   "metadata": {},
   "source": [
    "### 1. Prerequisites\n",
    "\n",
    "- ✅ [.NET 8 SDK](https://dotnet.microsoft.com/download)\n",
    "- ✅ Visual Studio Code or Visual Studio 2022+\n",
    "- ✅ C# Extension (VS Code)\n",
    "- ✅ SQL Server or SQLite"
   ]
  },
  {
   "cell_type": "code",
   "execution_count": null,
   "id": "c05a12a2",
   "metadata": {
    "vscode": {
     "languageId": "csharp"
    }
   },
   "outputs": [],
   "source": [
    "# 2. Clone the Repository\n",
    "!git clone https://github.com/YOUR-USERNAME/LibraryBookManagement.git\n",
    "%cd LibraryBookManagement"
   ]
  },
  {
   "cell_type": "code",
   "execution_count": null,
   "id": "cfceef49",
   "metadata": {
    "vscode": {
     "languageId": "csharp"
    }
   },
   "outputs": [],
   "source": [
    "# 3. Restore Dependencies\n",
    "!dotnet restore"
   ]
  },
  {
   "cell_type": "code",
   "execution_count": null,
   "id": "fbd29f84",
   "metadata": {
    "vscode": {
     "languageId": "csharp"
    }
   },
   "outputs": [],
   "source": [
    "# 4. Apply Migrations & Create Database\n",
    "!dotnet ef database update\n",
    "\n",
    "# (If ef tools not installed, use this command first)\n",
    "# !dotnet tool install --global dotnet-ef"
   ]
  },
  {
   "cell_type": "code",
   "execution_count": null,
   "id": "b093da10",
   "metadata": {
    "vscode": {
     "languageId": "csharp"
    }
   },
   "outputs": [],
   "source": [
    "# 5. Run the Project\n",
    "!dotnet watch run"
   ]
  },
  {
   "cell_type": "markdown",
   "id": "d6754b8f",
   "metadata": {},
   "source": [
    "## 🗂 Features\n",
    "\n",
    "- Add, edit, delete, and view books\n",
    "- Sort by Title, Author, or Recently Added\n",
    "- Razor Pages with EF Core"
   ]
  },
  {
   "cell_type": "markdown",
   "id": "04a9ffa1",
   "metadata": {},
   "source": [
    "## 🛠 Tech Stack\n",
    "- ASP.NET Core MVC (.NET 8)\n",
    "- Entity Framework Core\n",
    "- Razor Views\n",
    "- SQL Server / SQLite\n",
    "- Bootstrap (for styling)"
   ]
  },
  {
   "cell_type": "markdown",
   "id": "45b5a320",
   "metadata": {},
   "source": [
    "## 🏗 Folder Structure\n",
    "```\n",
    "LibraryBookManagement/\n",
    "├── Controllers/\n",
    "├── Models/\n",
    "├── Views/\n",
    "├── Migrations/\n",
    "├── wwwroot/\n",
    "└── appsettings.json\n",
    "```"
   ]
  },
  {
   "cell_type": "markdown",
   "id": "3115ffe6",
   "metadata": {},
   "source": [
    "## ⚙️ SQL Server Configuration (Optional)\n",
    "Update `appsettings.json`:\n",
    "```json\n",
    "\"ConnectionStrings\": {\n",
    "  \"DefaultConnection\": \"Server=YOUR_SERVER_NAME;Database=LibraryBookDB;Trusted_Connection=True;\"\n",
    "}\n",
    "```"
   ]
  }
 ],
 "metadata": {
  "kernelspec": {
   "display_name": ".NET (C#)",
   "language": "C#",
   "name": ".net-csharp"
  },
  "language_info": {
   "name": "C#"
  }
 },
 "nbformat": 4,
 "nbformat_minor": 5
}
